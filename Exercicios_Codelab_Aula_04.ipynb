{
  "nbformat": 4,
  "nbformat_minor": 0,
  "metadata": {
    "colab": {
      "name": "Exercicios_Codelab_Aula_04.ipynb",
      "provenance": [],
      "include_colab_link": true
    },
    "kernelspec": {
      "name": "python3",
      "display_name": "Python 3"
    },
    "language_info": {
      "name": "python"
    }
  },
  "cells": [
    {
      "cell_type": "markdown",
      "metadata": {
        "id": "view-in-github",
        "colab_type": "text"
      },
      "source": [
        "<a href=\"https://colab.research.google.com/github/andremaisw/blue-exercicios-1.py/blob/main/Exercicios_Codelab_Aula_04.ipynb\" target=\"_parent\"><img src=\"https://colab.research.google.com/assets/colab-badge.svg\" alt=\"Open In Colab\"/></a>"
      ]
    },
    {
      "cell_type": "markdown",
      "metadata": {
        "id": "SW-cnnj3AAlE"
      },
      "source": [
        "## Exercício 01\n",
        "\n",
        "Faça um programa que pergunte ao usuário um número e valide se o numero é par ou impar:\n",
        "\n",
        "* Crie uma variável para receber o valor, com conversão para int\n",
        "* Para um número ser par, a divisão dele por 2 tem que dar resto 0"
      ]
    },
    {
      "cell_type": "code",
      "metadata": {
        "id": "ZeuCDPZQFT9T",
        "colab": {
          "base_uri": "https://localhost:8080/"
        },
        "outputId": "8ca0d843-416c-4cf9-805f-359f0d2820aa"
      },
      "source": [
        "num = float(input('Digite um número: '))\n",
        "if num%2 == 0:\n",
        "  print('Você digitou um número par.')\n",
        "elif num%2 != 0:\n",
        "  print('Você digitou um número ímpar.')\n",
        "else:\n",
        "  print('Opção inválida.')"
      ],
      "execution_count": null,
      "outputs": [
        {
          "output_type": "stream",
          "text": [
            "Digite um número: 20\n",
            "Você digitou um número par.\n"
          ],
          "name": "stdout"
        }
      ]
    },
    {
      "cell_type": "markdown",
      "metadata": {
        "id": "jXVUBuN3DcU-"
      },
      "source": [
        "## Exercício 02\n",
        "\n",
        "> Parte 1\n",
        "\n",
        "Faça um script que peça um valor e mostre na tela se o valor é positivo ou negativo.\n",
        "\n",
        "> Parte 2\n",
        "\n",
        "Agora implemente a funcionalidade de não aceitar o número 0, no input. (esse vai além do explicado até agora)"
      ]
    },
    {
      "cell_type": "code",
      "metadata": {
        "id": "bsM4V6SeHwJr"
      },
      "source": [
        "num = float(input('Digite um número diferente de zero: '))\n",
        "if num > 0:\n",
        "  print('Você digitou um número positivo.')\n",
        "elif num < 0:\n",
        "  print('Você digitou um número negativo.')\n",
        "else:\n",
        "  print('Você digitou um valor neutro. Tente novamente.')"
      ],
      "execution_count": null,
      "outputs": []
    },
    {
      "cell_type": "markdown",
      "metadata": {
        "id": "90mUizLXOKd3"
      },
      "source": [
        "## Exercício 03\n",
        "\n",
        "Faça um programa que peça dois números, imprima o maior deles ou imprima \"Numeros iguais\" se os números forem iguais."
      ]
    },
    {
      "cell_type": "code",
      "metadata": {
        "id": "7yXB2kfUVYuD"
      },
      "source": [
        "n1 = float(input('digite o primeiro numero: '))\n",
        "n2 = float(input('digite o segundo numero: '))\n",
        "if n1 == n2:\n",
        "  print('Numeros iguais')\n",
        "else:\n",
        "  print('números diferentes')"
      ],
      "execution_count": null,
      "outputs": []
    },
    {
      "cell_type": "markdown",
      "metadata": {
        "id": "9BATv7tsOWOI"
      },
      "source": [
        "## Exercício 04\n",
        "\n",
        "Crie um programa que verifique se uma letra digitada é \"F\" ou \"M\". Conforme a letra, escrever: F - Feminino, M - Masculino, caso escreva outra letra: Sexo Biológico Inválido."
      ]
    },
    {
      "cell_type": "code",
      "metadata": {
        "id": "pRm8kyI7Wnp4"
      },
      "source": [
        "gen = input('Digite o seu sexo biológico: ')\n",
        "if gen[0] == 'M' or gen[0] == 'm':\n",
        "  print('Masculino')\n",
        "elif gen[0] == 'F' or gen[0] == 'f':\n",
        "  print('Feminino')\n",
        "else:\n",
        "  print('opção inválida.')"
      ],
      "execution_count": null,
      "outputs": []
    },
    {
      "cell_type": "markdown",
      "metadata": {
        "id": "WX2j2ITtY3G5"
      },
      "source": [
        "### Exercício 05\n",
        "\n",
        "Crie um programa em Python que peça a nota do aluno, que deve ser um float entre 0.00 e 10.0\n",
        "\n",
        "* Se a nota for menor que 6.0, deve exibir a nota F.\n",
        "\n",
        "* Se a nota for de 6.0 até 7.0, deve exibir a nota D.\n",
        "\n",
        "* Se a nota for entre 7.0 e 8.0, deve exibir a nota C.\n",
        "\n",
        "* Se a nota for entre 8.0 e 9.0, deve exibir a nota B.\n",
        "\n",
        "* Por fim, se for entre 9.0 e 10.0, deve exibir um belo de um A."
      ]
    },
    {
      "cell_type": "code",
      "metadata": {
        "id": "4CjqLlFWY5Z-",
        "colab": {
          "base_uri": "https://localhost:8080/"
        },
        "outputId": "fb5d8079-d8b2-4770-c2e0-c59f1d31f32c"
      },
      "source": [
        "n1 = float(input('Digite a sua nota: '))\n",
        "if n1 < 6 and n1 >= 0:\n",
        "  print('Nota F')\n",
        "elif n1 >= 6 and n1 < 7:\n",
        "  print('Nota D')\n",
        "elif n1 >= 7 and n1 < 8:\n",
        "  print('Nota C')\n",
        "elif n1 >= 8 and n1 < 9:\n",
        "  print('Nota B')\n",
        "elif n1 >= 9 and n1 <= 10:\n",
        "  print('Nota A')\n",
        "else:\n",
        "  print('Digite uma nota entre 0 e 10.')"
      ],
      "execution_count": null,
      "outputs": [
        {
          "output_type": "stream",
          "text": [
            "Digite a sua nota: 6\n",
            "Nota D\n"
          ],
          "name": "stdout"
        }
      ]
    },
    {
      "cell_type": "markdown",
      "metadata": {
        "id": "xep4W_T-s-Ra"
      },
      "source": [
        "# *Mini Projetos*"
      ]
    },
    {
      "cell_type": "markdown",
      "metadata": {
        "id": "4YbMlSEZG7UM"
      },
      "source": [
        "## **PROJETO 01**\n",
        "\n",
        "*   Escreva um programa que receba uma string digitada pelo usuário;\n",
        "*   Caso a string seja \"medieval\", exiba no console \"espada\";\n",
        "*   Caso contrário, se a string for \"futurista\", exiba no console \"sabre de luz\";\n",
        "*   Caso contrário, exiba no console \"Tente novamente\""
      ]
    },
    {
      "cell_type": "code",
      "metadata": {
        "id": "tn9QH5pVG8Rq",
        "colab": {
          "base_uri": "https://localhost:8080/"
        },
        "outputId": "f8f67ede-f27e-4c38-ab92-61e83c07968e"
      },
      "source": [
        "n1 = input('Digite um nome: ')\n",
        "if n1 == 'medieval':\n",
        "  print('espada')\n",
        "elif n1 == 'futurista':\n",
        "  print('sabre de luz')\n",
        "else:\n",
        "  print('Tente novamente!')"
      ],
      "execution_count": null,
      "outputs": [
        {
          "output_type": "stream",
          "text": [
            "Digite um nome: asc\n",
            "Tente novamente!\n"
          ],
          "name": "stdout"
        }
      ]
    },
    {
      "cell_type": "markdown",
      "metadata": {
        "id": "zUGk1OiNHDik"
      },
      "source": [
        "## **PROJETO 02**\n",
        "\n",
        "* Escreva um programa que receba um ataque de espada ou sabre digitada pelo usuário;\n",
        "\n",
        "* Caso o ataque seja \"espada\", exiba no console \"VOCÊ AINDA NÃO MATOU O CHEFÃO\";\n",
        "\n",
        "* Caso contrário, se o ataque for \"sabre\", exiba no console \"VOCÊ DERROTOU O CHEFÃO COM O SABRE DE LUZ\";\n",
        "\n",
        "* Caso contrário, exiba no console \"ATAQUE NOVAMENTE\""
      ]
    },
    {
      "cell_type": "code",
      "metadata": {
        "id": "eNZokIIOHHkp",
        "colab": {
          "base_uri": "https://localhost:8080/"
        },
        "outputId": "1c4703b8-893c-41f1-a384-b6c6ffe375ae"
      },
      "source": [
        "n1 = input('Digite com qual arma vc irá atacar: [espada/sabre] ')\n",
        "if n1 == 'espada':\n",
        "  print('VOCÊ AINDA NÃO MATOU O CHEFÃO')\n",
        "elif n1 == 'sabre':\n",
        "  print('VOCÊ DERROTOU O CHEFÃO COM O SABRE DE LUZ')\n",
        "else:\n",
        "  print('ATAQUE NOVAMENTE!')"
      ],
      "execution_count": null,
      "outputs": [
        {
          "output_type": "stream",
          "text": [
            "Digite com qual arma vc irá atacar: [espada/sabre] sabre\n",
            "VOCÊ DERROTOU O CHEFÃO COM O SABRE DE LUZ\n"
          ],
          "name": "stdout"
        }
      ]
    },
    {
      "cell_type": "markdown",
      "metadata": {
        "id": "NRhLAMa6ZfqU"
      },
      "source": [
        "## **DESAFIO 01**\n",
        "\n",
        "**Reajuste salarial**\n",
        "\n",
        "As empresas @.com resolveram dar um aumento de salário aos seus colaboradores e lhe contrataram para desenvolver o programa que calculará os reajustes.\n",
        "\n",
        "Faça um programa que recebe o salário de um colaborador e o reajuste segundo o seguinte critério, baseado no salário atual:\n",
        "* salários até R$ 280,00 (incluindo) : aumento de 20%\n",
        "\n",
        "* salários entre R\\$ 280,00 e R$ 700,00 : aumento de 15%\n",
        "\n",
        "* salários entre R\\$ 700,00 e R$ 1500,00 : aumento de 10%\n",
        "\n",
        "* salários de R$ 1500,00 em diante : aumento de 5% \n",
        "\n",
        "Após o aumento ser realizado, informe na tela:\n",
        "* o salário antes do reajuste;\n",
        "\n",
        "* o percentual de aumento aplicado;\n",
        "\n",
        "* o valor do aumento;\n",
        "\n",
        "* o novo salário, após o aumento.\""
      ]
    },
    {
      "cell_type": "code",
      "metadata": {
        "id": "VpC5oZINZXzt"
      },
      "source": [
        "n1 = input('Digite o nome do funcionário: ')\n",
        "s1 = float(input(f'Digite o salário atual de {n1}: R$ '))\n",
        "if s1 <= 250 and s1 >= 0:\n",
        "  s2 = 1.2 * s1\n",
        "elif s1 > 250 and s1 < 700:\n",
        "  s2 = 1.15 * s1\n",
        "elif s1 >= 700 and s1 < 1500:\n",
        "  s2 = 1.10 * s1\n",
        "elif s1 >= 1500:\n",
        "  s2 = 1.05 * s1 \n",
        "else:\n",
        "  print('Digite um Valor Positivo!')\n",
        "perc = (s2 / s1)*100 - 100\n",
        "aum = s2 - s1 \n",
        "print(f'\\nFuncionário: {n1}\\nSalário anterior: R$ {s1:.2f}\\nPercentual de aumento: {perc:.0f}%\\nValor do aumento: R$ {aum:.2f}\\nSalário reajustado: R$ {s2:.2f}')\n"
      ],
      "execution_count": null,
      "outputs": []
    },
    {
      "cell_type": "markdown",
      "metadata": {
        "id": "HvThpbU4aBGy"
      },
      "source": [
        "## **DESAFIO 02**\n",
        "\n",
        "**Jogo da adivinhação**\n",
        "\n",
        "Escreva um programa que faça o computador “pensar” em um número inteiro entre 0 e 10 e peça para o usuário tentar descobrir qual foi o número escolhido pelo computador. O programa deverá escrever na tela se o usuário venceu ou perdeu."
      ]
    },
    {
      "cell_type": "code",
      "metadata": {
        "id": "TVeHZbyQZIzO"
      },
      "source": [
        "from random import randrange\n",
        "num = randrange(0,11)\n",
        "resp = int(input('Olá! O computador escolherá aleatoriamente um número inteiro entre 0 e 10. Tente advinhar qual número o computador escolheu! Vamos nessa? \\n\\nDigite o seu palpite: '))\n",
        "if num == resp:\n",
        "  print(f'Você ACERTOU! O número escolhido pela máquina também foi {num}')\n",
        "else:\n",
        "  print(f'Infelizmente não foi dessa vez. O número escolhido pela máquina foi: {num}')"
      ],
      "execution_count": null,
      "outputs": []
    },
    {
      "cell_type": "markdown",
      "metadata": {
        "id": "mjLFAUooaOH1"
      },
      "source": [
        "## **Desafio 03**\n",
        "\n",
        "**Caixa eletrônico**\n",
        "\n",
        "Faça um Programa para um caixa eletrônico. O programa deverá perguntar ao usuário a valor do saque e depois informar quantas notas de cada valor serão fornecidas. As notas disponíveis serão as de 1, 5, 10, 50 e 100 reais. O valor mínimo é de 10 reais e o máximo de 600 reais. O programa não deve se preocupar com a quantidade de notas existentes na máquina.\n",
        "\n",
        "* Exemplo 1: Para sacar a quantia de 256 reais, o programa fornece duas notas de 100, uma nota de 50, uma nota de 5 e uma nota de 1;\n",
        "\n",
        "* Exemplo 2: Para sacar a quantia de 399 reais, o programa fornece três notas de 100, uma nota de 50, quatro notas de 10, uma nota de 5 e quatro notas de 1.\n",
        "\n"
      ]
    },
    {
      "cell_type": "code",
      "metadata": {
        "id": "sH65bTx-ZMLh"
      },
      "source": [
        "from math import floor\n",
        "print('\\nOlá! Você está num Caixa Eletrônico. Os Saques em Dinheiro são a partir de R$ 10,00 e limitados até R$ 600,00')\n",
        "saque = float(input('\\nDigite um valor que deseja sacar: R$ '))\n",
        "a100 = floor(saque/100)\n",
        "b50 = floor((saque - a100*100)/50)\n",
        "c10 = floor((saque - (a100*100) - (b50*50))/10)\n",
        "d1 = floor((saque - (a100*100) - (b50*50)) - (c10*10)/1)\n",
        "if saque >= 10 and saque <= 600:\n",
        "    print(f'\\nSaque: R$ {saque}\\n[ {a100} ] Nota(s) de R$100\\n[ {b50} ] Nota(s) de R$50\\n[ {c10} ] Nota(s) de R$10\\n[ {d1} ] Nota(s) de R$1')\n",
        "else:\n",
        "    print('Digite um Valor entre R$10 e R$600, por favor!')"
      ],
      "execution_count": null,
      "outputs": []
    }
  ]
}